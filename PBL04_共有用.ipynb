{
  "nbformat": 4,
  "nbformat_minor": 0,
  "metadata": {
    "colab": {
      "name": "PBL04_共有用.ipynb",
      "provenance": [],
      "collapsed_sections": [],
      "toc_visible": true
    },
    "kernelspec": {
      "name": "python3",
      "display_name": "Python 3"
    }
  },
  "cells": [
    {
      "cell_type": "code",
      "metadata": {
        "id": "yD_fT1-bZcCw",
        "colab_type": "code",
        "colab": {
          "base_uri": "https://localhost:8080/",
          "height": 34
        },
        "outputId": "56c1d427-4112-4d95-adc0-377806fc604b"
      },
      "source": [
        "# Google Driveのマウント\n",
        "from google.colab import drive \n",
        "drive.mount('/content/drive')"
      ],
      "execution_count": 2,
      "outputs": [
        {
          "output_type": "stream",
          "text": [
            "Drive already mounted at /content/drive; to attempt to forcibly remount, call drive.mount(\"/content/drive\", force_remount=True).\n"
          ],
          "name": "stdout"
        }
      ]
    },
    {
      "cell_type": "code",
      "metadata": {
        "id": "eaaY4TvlZkSQ",
        "colab_type": "code",
        "colab": {
          "base_uri": "https://localhost:8080/",
          "height": 34
        },
        "outputId": "621cd6f3-c1f3-4328-996d-79ab37473122"
      },
      "source": [
        "%cd ./drive/\"My Drive\"/AIquest/pbl4"
      ],
      "execution_count": 3,
      "outputs": [
        {
          "output_type": "stream",
          "text": [
            "/content/drive/My Drive/AIquest/pbl4\n"
          ],
          "name": "stdout"
        }
      ]
    },
    {
      "cell_type": "code",
      "metadata": {
        "id": "6FWH6L9eZuJs",
        "colab_type": "code",
        "colab": {
          "base_uri": "https://localhost:8080/",
          "height": 272
        },
        "outputId": "5f404a74-276f-42d8-891b-d252be4fc1f8"
      },
      "source": [
        "!pip install catboost"
      ],
      "execution_count": 1,
      "outputs": [
        {
          "output_type": "stream",
          "text": [
            "Requirement already satisfied: catboost in /usr/local/lib/python3.6/dist-packages (0.20)\n",
            "Requirement already satisfied: graphviz in /usr/local/lib/python3.6/dist-packages (from catboost) (0.10.1)\n",
            "Requirement already satisfied: numpy>=1.16.0 in /usr/local/lib/python3.6/dist-packages (from catboost) (1.17.4)\n",
            "Requirement already satisfied: six in /usr/local/lib/python3.6/dist-packages (from catboost) (1.12.0)\n",
            "Requirement already satisfied: pandas>=0.24.0 in /usr/local/lib/python3.6/dist-packages (from catboost) (0.25.3)\n",
            "Requirement already satisfied: matplotlib in /usr/local/lib/python3.6/dist-packages (from catboost) (3.1.1)\n",
            "Requirement already satisfied: plotly in /usr/local/lib/python3.6/dist-packages (from catboost) (4.1.1)\n",
            "Requirement already satisfied: scipy in /usr/local/lib/python3.6/dist-packages (from catboost) (1.3.2)\n",
            "Requirement already satisfied: python-dateutil>=2.6.1 in /usr/local/lib/python3.6/dist-packages (from pandas>=0.24.0->catboost) (2.6.1)\n",
            "Requirement already satisfied: pytz>=2017.2 in /usr/local/lib/python3.6/dist-packages (from pandas>=0.24.0->catboost) (2018.9)\n",
            "Requirement already satisfied: pyparsing!=2.0.4,!=2.1.2,!=2.1.6,>=2.0.1 in /usr/local/lib/python3.6/dist-packages (from matplotlib->catboost) (2.4.5)\n",
            "Requirement already satisfied: kiwisolver>=1.0.1 in /usr/local/lib/python3.6/dist-packages (from matplotlib->catboost) (1.1.0)\n",
            "Requirement already satisfied: cycler>=0.10 in /usr/local/lib/python3.6/dist-packages (from matplotlib->catboost) (0.10.0)\n",
            "Requirement already satisfied: retrying>=1.3.3 in /usr/local/lib/python3.6/dist-packages (from plotly->catboost) (1.3.3)\n",
            "Requirement already satisfied: setuptools in /usr/local/lib/python3.6/dist-packages (from kiwisolver>=1.0.1->matplotlib->catboost) (41.6.0)\n"
          ],
          "name": "stdout"
        }
      ]
    },
    {
      "cell_type": "code",
      "metadata": {
        "id": "Kto-b5xMZxzz",
        "colab_type": "code",
        "colab": {}
      },
      "source": [
        "import re\n",
        "import pandas as pd\n",
        "import numpy as np\n",
        "import sklearn.metrics as metrics\n",
        "from catboost import CatBoostClassifier, Pool\n"
      ],
      "execution_count": 0,
      "outputs": []
    },
    {
      "cell_type": "markdown",
      "metadata": {
        "id": "ff8htsCYaBTB",
        "colab_type": "text"
      },
      "source": [
        "# ファイル読み込み"
      ]
    },
    {
      "cell_type": "code",
      "metadata": {
        "id": "dM7PMbUzZ7Ze",
        "colab_type": "code",
        "colab": {}
      },
      "source": [
        "raw_purchase_record_df = pd.read_csv(\"purchase_record.csv\")\n",
        "raw_purchase_record_test_df = pd.read_csv(\"purchase_record_test.csv\")\n",
        "raw_user_info_df = pd.read_csv(\"user_info.csv\")\n",
        "\n",
        "purchase_record_df = raw_purchase_record_df.copy()\n",
        "purchase_record_test_df = raw_purchase_record_test_df.copy()\n",
        "user_info_df = raw_user_info_df.copy()"
      ],
      "execution_count": 0,
      "outputs": []
    },
    {
      "cell_type": "markdown",
      "metadata": {
        "id": "XtU1Y9lNaFGt",
        "colab_type": "text"
      },
      "source": [
        "# 前処理"
      ]
    },
    {
      "cell_type": "code",
      "metadata": {
        "id": "mBD19Fe-Z_Wb",
        "colab_type": "code",
        "colab": {}
      },
      "source": [
        "# user_info_dfのアカウント作成日時に変更\n",
        "user_info_df = user_info_df.rename(columns={\"date\": \"acount_created_date\"})\n",
        "\n",
        "# user_infoとpurchase_recordのマージ\n",
        "train_df = pd.merge(purchase_record_df, user_info_df, on='user_id')\n",
        "test_df = pd.merge(purchase_record_test_df, user_info_df, on='user_id')"
      ],
      "execution_count": 0,
      "outputs": []
    },
    {
      "cell_type": "code",
      "metadata": {
        "id": "s-wHLrMFaLZr",
        "colab_type": "code",
        "colab": {}
      },
      "source": [
        "# NaNを0で埋める\n",
        "train_df = train_df.fillna(\"0\")\n",
        "test_df = test_df.fillna(\"0\")\n",
        "\n",
        "# 時間データを経過年月に変更\n",
        "train_df[\"year\"] = train_df[\"date\"].apply(lambda x : int(x.split(\"-\")[0]))\n",
        "train_df[\"month\"] = train_df[\"date\"].apply(lambda x : int(x.split(\"-\")[1]))\n",
        "train_df[\"day\"] = train_df[\"date\"].apply(lambda x : int(x.split(\"-\")[2]))\n",
        "test_df[\"year\"] = test_df[\"date\"].apply(lambda x : int(x.split(\"-\")[0]))\n",
        "test_df[\"month\"] = test_df[\"date\"].apply(lambda x : int(x.split(\"-\")[1]))\n",
        "test_df[\"day\"] = test_df[\"date\"].apply(lambda x : int(x.split(\"-\")[2]))\n",
        "\n",
        "train_df[\"elapsed_month\"] = (train_df[\"year\"] - 2017) * 12 + (train_df[\"month\"] - 7) # 最小値が2017年7月\n",
        "test_df[\"elapsed_month\"] = (test_df[\"year\"] - 2017) * 12 + (test_df[\"month\"] - 7) # 最小値が2017年7月\n",
        "train_df[\"elapsed_day\"] = (train_df[\"year\"] - 2017) * 12 * 30 + (train_df[\"month\"] - 7) * 30 + train_df[\"day\"] # 最小値が2017年7月\n",
        "test_df[\"elapsed_day\"] = (test_df[\"year\"] - 2017) * 12 * 30 + (test_df[\"month\"] - 7) * 30 + test_df[\"day\"] # 最小値が2017年7月\n",
        "\n",
        "train_df[\"account_year\"] = train_df[\"acount_created_date\"].apply(lambda x : int(x.split(\"-\")[0]))\n",
        "train_df[\"account_month\"] = train_df[\"acount_created_date\"].apply(lambda x : int(x.split(\"-\")[1]))\n",
        "test_df[\"account_year\"] = test_df[\"acount_created_date\"].apply(lambda x : int(x.split(\"-\")[0]))\n",
        "test_df[\"account_month\"] = test_df[\"acount_created_date\"].apply(lambda x : int(x.split(\"-\")[1]))\n",
        "\n",
        "train_df[\"elapsed_account_month\"] = (train_df[\"account_year\"] - 2016) * 12 + (train_df[\"account_month\"] - 1)\n",
        "test_df[\"elapsed_account_month\"] = (test_df[\"account_year\"] - 2016) * 12 + (test_df[\"account_month\"] - 1)\n",
        "\n",
        "# user_infoとpurchase_recordのdateの差分\n",
        "train_df[\"elapsed_month_user_and_purchase\"] = (train_df[\"year\"] - train_df[\"account_year\"]) * 12 + (train_df[\"month\"] - train_df[\"account_month\"])\n",
        "test_df[\"elapsed_month_user_and_purchase\"] = (test_df[\"year\"] - test_df[\"account_year\"]) * 12 + (test_df[\"month\"] - test_df[\"account_month\"])\n",
        "\n",
        "# 不要な変数を削除\n",
        "train_df = train_df.drop([\"date\", \"acount_created_date\"], axis=1)\n",
        "test_df = test_df.drop([\"date\", \"acount_created_date\"], axis=1)"
      ],
      "execution_count": 0,
      "outputs": []
    },
    {
      "cell_type": "code",
      "metadata": {
        "id": "ZdiM46PIaWtQ",
        "colab_type": "code",
        "colab": {}
      },
      "source": [
        "# カテゴリ変数の置換\n",
        "for i in range(train_df.shape[1]):\n",
        "    if train_df.iloc[:,i].dtypes == object:\n",
        "      column_name = train_df.columns[i]\n",
        "      train_df[column_name] = train_df[column_name].apply(lambda x : int(re.sub(\"\\\\D\", \"\", x)))\n",
        "      test_df[column_name] = test_df[column_name].apply(lambda x : int(re.sub(\"\\\\D\", \"\", x)))\n",
        "    elif train_df.iloc[:,i].dtypes == bool:\n",
        "      column_name = train_df.columns[i]\n",
        "      train_df[column_name] = train_df[column_name].astype('int')\n",
        "      test_df[column_name] = test_df[column_name].astype('int')"
      ],
      "execution_count": 0,
      "outputs": []
    },
    {
      "cell_type": "code",
      "metadata": {
        "id": "Xc2Jy-AJaa20",
        "colab_type": "code",
        "colab": {}
      },
      "source": [
        "# カスタマイズを行っているかどうか\n",
        "train_df[\"custom\"] = train_df[\"parts_1\"] + train_df[\"parts_2\"] \\\n",
        "                    + train_df[\"parts_3\"] + train_df[\"parts_4\"] \\\n",
        "                    + train_df[\"parts_5\"] + train_df[\"parts_6\"] \\\n",
        "                    + train_df[\"parts_7\"] + train_df[\"parts_8\"] \\\n",
        "                    + train_df[\"parts_9\"]\n",
        "test_df[\"custom\"] = test_df[\"parts_1\"] + test_df[\"parts_2\"] \\\n",
        "                    + test_df[\"parts_3\"] + test_df[\"parts_4\"] \\\n",
        "                    + test_df[\"parts_5\"] + test_df[\"parts_6\"] \\\n",
        "                    + test_df[\"parts_7\"] + test_df[\"parts_8\"] \\\n",
        "                    + test_df[\"parts_9\"]\n",
        "train_df[\"flag_custom\"] = train_df[\"custom\"].apply(lambda x : int(x>0))\n",
        "test_df[\"flag_custom\"] = test_df[\"custom\"].apply(lambda x : int(x>0))\n",
        "\n",
        "# AttributeにおいてNaNでない数\n",
        "train_df[\"Attribute\"] = train_df[\"attribute_4\"] + train_df[\"attribute_5\"] \\\n",
        "                            + train_df[\"attribute_6\"] + train_df[\"attribute_7\"] \\\n",
        "                            + train_df[\"attribute_8\"] + train_df[\"attribute_9\"]  \\\n",
        "                            + train_df[\"attribute_10\"] + train_df[\"attribute_11\"]  \\\n",
        "                            + train_df[\"attribute_12\"] + train_df[\"attribute_13\"] \\\n",
        "                            + train_df[\"attribute_14\"] + train_df[\"attribute_15\"]  \\\n",
        "                            + train_df[\"attribute_16\"] + train_df[\"attribute_17\"]  \\\n",
        "                            + train_df[\"attribute_18\"] + train_df[\"attribute_19\"]  \\\n",
        "                            + train_df[\"attribute_20\"] + train_df[\"attribute_21\"]  \\\n",
        "                            + train_df[\"attribute_22\"] + train_df[\"attribute_23\"] \\\n",
        "                            + train_df[\"attribute_24\"] + train_df[\"attribute_25\"]  \\\n",
        "                            + train_df[\"attribute_26\"] + train_df[\"attribute_27\"]  \\\n",
        "                            + train_df[\"attribute_28\"] + train_df[\"attribute_29\"]  \\\n",
        "                            + train_df[\"attribute_30\"]\n",
        "test_df[\"Attribute\"] = test_df[\"attribute_4\"] + test_df[\"attribute_5\"] \\\n",
        "                          + test_df[\"attribute_6\"] + test_df[\"attribute_7\"] \\\n",
        "                          + test_df[\"attribute_8\"] + test_df[\"attribute_9\"]  \\\n",
        "                          + test_df[\"attribute_10\"] + test_df[\"attribute_11\"]  \\\n",
        "                          + test_df[\"attribute_12\"] + test_df[\"attribute_13\"] \\\n",
        "                          + test_df[\"attribute_14\"] + test_df[\"attribute_15\"]  \\\n",
        "                          + test_df[\"attribute_16\"] + test_df[\"attribute_17\"]  \\\n",
        "                          + test_df[\"attribute_18\"] + test_df[\"attribute_19\"]  \\\n",
        "                          + test_df[\"attribute_20\"] + test_df[\"attribute_21\"]  \\\n",
        "                          + test_df[\"attribute_22\"] + test_df[\"attribute_23\"] \\\n",
        "                          + test_df[\"attribute_24\"] + test_df[\"attribute_25\"]  \\\n",
        "                          + test_df[\"attribute_26\"] + test_df[\"attribute_27\"]  \\\n",
        "                          + test_df[\"attribute_28\"] + test_df[\"attribute_29\"]  \\\n",
        "                          + test_df[\"attribute_30\"]"
      ],
      "execution_count": 0,
      "outputs": []
    },
    {
      "cell_type": "code",
      "metadata": {
        "id": "hsCV2mRoasvL",
        "colab_type": "code",
        "colab": {}
      },
      "source": [
        "# Frequency Encoding\n",
        "# 商品ラインナップ別\n",
        "grouped_df = train_df.groupby(['product_id', 'parts_1', 'parts_2', 'parts_3', 'parts_4', 'parts_5', 'parts_6', 'parts_7', 'parts_8', 'parts_9']).size().reset_index(name=\"product_counts\")\n",
        "\n",
        "train_df = train_df.merge(grouped_df, how = \"left\", on = ['product_id', 'parts_1', 'parts_2', 'parts_3', 'parts_4', 'parts_5', 'parts_6', 'parts_7', 'parts_8', 'parts_9'])\n",
        "train_df[\"product_frequency\"] = train_df[\"product_counts\"] / train_df[\"product_counts\"].count()\n",
        "test_df = test_df.merge(grouped_df, how = \"left\", on = ['product_id', 'parts_1', 'parts_2', 'parts_3', 'parts_4', 'parts_5', 'parts_6', 'parts_7', 'parts_8', 'parts_9'])\n",
        "test_df[\"product_frequency\"] = test_df[\"product_counts\"] / test_df[\"product_counts\"].count()"
      ],
      "execution_count": 0,
      "outputs": []
    },
    {
      "cell_type": "code",
      "metadata": {
        "id": "UUXKuSEDa6sW",
        "colab_type": "code",
        "colab": {}
      },
      "source": [
        "# Attribute_1\n",
        "encoding = train_df.groupby('attribute_1').size()\n",
        "encoding = encoding/len(train_df)\n",
        "train_df['attribute_1_freq'] = train_df.product_id.map(encoding)\n",
        "\n",
        "encoding = test_df.groupby('attribute_1').size()\n",
        "encoding = encoding/len(test_df)\n",
        "test_df['attribute_1_freq'] = test_df.product_id.map(encoding)\n",
        "\n",
        "# Attribute_2\n",
        "encoding = train_df.groupby('attribute_2').size()\n",
        "encoding = encoding/len(train_df)\n",
        "train_df['attribute_2_freq'] = train_df.product_id.map(encoding)\n",
        "\n",
        "encoding = test_df.groupby('attribute_2').size()\n",
        "encoding = encoding/len(test_df)\n",
        "test_df['attribute_2_freq'] = test_df.product_id.map(encoding)\n",
        "\n",
        "# Attribute_3\n",
        "encoding = train_df.groupby('attribute_3').size()\n",
        "encoding = encoding/len(train_df)\n",
        "train_df['attribute_3_freq'] = train_df.product_id.map(encoding)\n",
        "\n",
        "encoding = test_df.groupby('attribute_3').size()\n",
        "encoding = encoding/len(test_df)\n",
        "test_df['attribute_3_freq'] = test_df.product_id.map(encoding)"
      ],
      "execution_count": 0,
      "outputs": []
    },
    {
      "cell_type": "code",
      "metadata": {
        "id": "P0a79FMIbFQG",
        "colab_type": "code",
        "colab": {}
      },
      "source": [
        "# 型の変換 (Catboost用) ※ もっと賢い方法があるはず\n",
        "train_df[\"elapsed_month\"] = train_df[\"elapsed_month\"].astype(float)\n",
        "test_df[\"elapsed_month\"] = test_df[\"elapsed_month\"].astype(float)\n",
        "train_df[\"elapsed_day\"] = train_df[\"elapsed_day\"].astype(float)\n",
        "test_df[\"elapsed_day\"] = test_df[\"elapsed_day\"].astype(float)\n",
        "train_df[\"elapsed_account_month\"] = train_df[\"elapsed_account_month\"].astype(float)\n",
        "test_df[\"elapsed_account_month\"] = test_df[\"elapsed_account_month\"].astype(float)\n",
        "train_df[\"elapsed_month_user_and_purchase\"] = train_df[\"elapsed_month_user_and_purchase\"].astype(float)\n",
        "test_df[\"elapsed_month_user_and_purchase\"] = test_df[\"elapsed_month_user_and_purchase\"].astype(float)\n",
        "train_df[\"product_counts\"] = train_df[\"product_counts\"].astype(float)\n",
        "test_df[\"product_counts\"] = test_df[\"product_counts\"].astype(float)\n",
        "train_df[\"product_frequency\"] = train_df[\"product_frequency\"].astype(float)\n",
        "test_df[\"product_frequency\"] = test_df[\"product_frequency\"].astype(float)\n",
        "train_df[\"attribute_1_freq\"] = train_df[\"attribute_1_freq\"].astype(float)\n",
        "test_df[\"attribute_1_freq\"] = test_df[\"attribute_1_freq\"].astype(float)\n",
        "train_df[\"attribute_2_freq\"] = train_df[\"attribute_2_freq\"].astype(float)\n",
        "test_df[\"attribute_2_freq\"] = test_df[\"attribute_2_freq\"].astype(float)\n",
        "train_df[\"attribute_3_freq\"] = train_df[\"attribute_3_freq\"].astype(float)\n",
        "test_df[\"attribute_3_freq\"] = test_df[\"attribute_3_freq\"].astype(float)"
      ],
      "execution_count": 0,
      "outputs": []
    },
    {
      "cell_type": "markdown",
      "metadata": {
        "id": "oqafS5bXbb0S",
        "colab_type": "text"
      },
      "source": [
        "# 学習"
      ]
    },
    {
      "cell_type": "code",
      "metadata": {
        "id": "stGevxB0bT6m",
        "colab_type": "code",
        "colab": {}
      },
      "source": [
        "# 2017年7月〜2018年4月までを訓練データとして、2018年5月〜6月をテストデータとして使用。\n",
        "# 日付でソート\n",
        "sort_train_df = train_df.sort_values(\"elapsed_day\")\n",
        "\n",
        "# 学習データと訓練データに分割\n",
        "train_X = sort_train_df[(sort_train_df[\"month\"] != 5 ) & (sort_train_df[\"month\"] != 6 )].drop([\"purchase\", \"purchase_id\"], axis = 1)\n",
        "train_y = sort_train_df[(sort_train_df[\"month\"] != 5 ) & (sort_train_df[\"month\"] != 6 )][\"purchase\"]\n",
        "test_X = sort_train_df[(sort_train_df[\"month\"] == 5 ) | (sort_train_df[\"month\"] == 6 )].drop([\"purchase\", \"purchase_id\"], axis = 1)\n",
        "test_y = sort_train_df[(sort_train_df[\"month\"] == 5 ) | (sort_train_df[\"month\"] == 6 )][\"purchase\"]\n",
        "\n",
        "x = test_df.drop([\"purchase_id\"], axis = 1)"
      ],
      "execution_count": 0,
      "outputs": []
    },
    {
      "cell_type": "code",
      "metadata": {
        "id": "ZNY0wMWab_K8",
        "colab_type": "code",
        "colab": {
          "base_uri": "https://localhost:8080/",
          "height": 595
        },
        "outputId": "c8a1f59f-2485-435e-9100-79dea0e4de51"
      },
      "source": [
        "# product_idやparts、Attribuはカテゴリ変数として学習させる\n",
        "categorical_features_indices = np.where(train_X.dtypes != np.float)[0]\n",
        "\n",
        "# ハイパーパラメータ (Optunaで調整済み)\n",
        "params = {\n",
        "    'iterations': 119, \n",
        "    'depth': 8, \n",
        "    'learning_rate': 0.27, \n",
        "    'random_strength': 75,\n",
        "     'bagging_temperature': 0.057, \n",
        "     'od_type': 'Iter', \n",
        "     'od_wait': 18,\n",
        "     'iterations' : 1000, \n",
        "     'eval_metric': \"AUC\", \n",
        "     'cat_features': categorical_features_indices,\n",
        "     'random_seed' : 42,\n",
        "     }\n",
        "\n",
        "model = CatBoostClassifier(**params)\n",
        "model.fit(train_X, train_y, eval_set=(test_X, test_y))"
      ],
      "execution_count": 14,
      "outputs": [
        {
          "output_type": "stream",
          "text": [
            "0:\ttest: 0.8348441\tbest: 0.8348441 (0)\ttotal: 8.93s\tremaining: 2h 28m 43s\n",
            "1:\ttest: 0.9135861\tbest: 0.9135861 (1)\ttotal: 19s\tremaining: 2h 38m 15s\n",
            "2:\ttest: 0.9165791\tbest: 0.9165791 (2)\ttotal: 27.1s\tremaining: 2h 29m 49s\n",
            "3:\ttest: 0.9159297\tbest: 0.9165791 (2)\ttotal: 30.8s\tremaining: 2h 7m 41s\n",
            "4:\ttest: 0.9245143\tbest: 0.9245143 (4)\ttotal: 34s\tremaining: 1h 52m 51s\n",
            "5:\ttest: 0.9273313\tbest: 0.9273313 (5)\ttotal: 44.6s\tremaining: 2h 3m 12s\n",
            "6:\ttest: 0.9265628\tbest: 0.9273313 (5)\ttotal: 53.3s\tremaining: 2h 5m 55s\n",
            "7:\ttest: 0.9272983\tbest: 0.9273313 (5)\ttotal: 1m 3s\tremaining: 2h 11m 10s\n",
            "8:\ttest: 0.9279579\tbest: 0.9279579 (8)\ttotal: 1m 14s\tremaining: 2h 16m 23s\n",
            "9:\ttest: 0.9246210\tbest: 0.9279579 (8)\ttotal: 1m 24s\tremaining: 2h 19m 38s\n",
            "10:\ttest: 0.9247578\tbest: 0.9279579 (8)\ttotal: 1m 36s\tremaining: 2h 24m 38s\n",
            "11:\ttest: 0.9255727\tbest: 0.9279579 (8)\ttotal: 1m 45s\tremaining: 2h 24m 50s\n",
            "12:\ttest: 0.9255572\tbest: 0.9279579 (8)\ttotal: 1m 50s\tremaining: 2h 19m 41s\n",
            "13:\ttest: 0.9254712\tbest: 0.9279579 (8)\ttotal: 1m 57s\tremaining: 2h 17m 23s\n",
            "14:\ttest: 0.9258944\tbest: 0.9279579 (8)\ttotal: 2m 5s\tremaining: 2h 16m 54s\n",
            "15:\ttest: 0.9263837\tbest: 0.9279579 (8)\ttotal: 2m 14s\tremaining: 2h 18m 18s\n",
            "16:\ttest: 0.9263815\tbest: 0.9279579 (8)\ttotal: 2m 17s\tremaining: 2h 12m 3s\n",
            "17:\ttest: 0.9264944\tbest: 0.9279579 (8)\ttotal: 2m 26s\tremaining: 2h 12m 52s\n",
            "18:\ttest: 0.9261964\tbest: 0.9279579 (8)\ttotal: 2m 30s\tremaining: 2h 9m 41s\n",
            "19:\ttest: 0.9261910\tbest: 0.9279579 (8)\ttotal: 2m 36s\tremaining: 2h 7m 32s\n",
            "20:\ttest: 0.9262594\tbest: 0.9279579 (8)\ttotal: 2m 41s\tremaining: 2h 5m 42s\n",
            "21:\ttest: 0.9262508\tbest: 0.9279579 (8)\ttotal: 2m 44s\tremaining: 2h 2m 9s\n",
            "22:\ttest: 0.9263955\tbest: 0.9279579 (8)\ttotal: 2m 46s\tremaining: 1h 58m 8s\n",
            "23:\ttest: 0.9259367\tbest: 0.9279579 (8)\ttotal: 2m 55s\tremaining: 1h 58m 39s\n",
            "24:\ttest: 0.9262357\tbest: 0.9279579 (8)\ttotal: 3m 7s\tremaining: 2h 1m 45s\n",
            "25:\ttest: 0.9262417\tbest: 0.9279579 (8)\ttotal: 3m 18s\tremaining: 2h 3m 39s\n",
            "26:\ttest: 0.9262426\tbest: 0.9279579 (8)\ttotal: 3m 20s\tremaining: 2h 14s\n",
            "Stopped by overfitting detector  (18 iterations wait)\n",
            "\n",
            "bestTest = 0.9279579397\n",
            "bestIteration = 8\n",
            "\n",
            "Shrink model to first 9 iterations.\n"
          ],
          "name": "stdout"
        },
        {
          "output_type": "execute_result",
          "data": {
            "text/plain": [
              "<catboost.core.CatBoostClassifier at 0x7f1b69cd1630>"
            ]
          },
          "metadata": {
            "tags": []
          },
          "execution_count": 14
        }
      ]
    },
    {
      "cell_type": "markdown",
      "metadata": {
        "id": "cQKyq0tTdYAq",
        "colab_type": "text"
      },
      "source": [
        "# 評価"
      ]
    },
    {
      "cell_type": "code",
      "metadata": {
        "id": "nWUw7OghdXaT",
        "colab_type": "code",
        "colab": {
          "base_uri": "https://localhost:8080/",
          "height": 34
        },
        "outputId": "e5413ddf-06d0-4242-db5b-4d92e0f2c488"
      },
      "source": [
        "y_pred = model.predict(test_X, prediction_type='Probability')[:, 1]\n",
        "\n",
        "# AUC (Area Under the Curve) を計算する\n",
        "fpr, tpr, thresholds = metrics.roc_curve(test_y, y_pred)\n",
        "auc = metrics.auc(fpr, tpr)\n",
        "print(auc)"
      ],
      "execution_count": 17,
      "outputs": [
        {
          "output_type": "stream",
          "text": [
            "0.927957939702426\n"
          ],
          "name": "stdout"
        }
      ]
    },
    {
      "cell_type": "markdown",
      "metadata": {
        "id": "BQKcc4BxfVAq",
        "colab_type": "text"
      },
      "source": [
        "# 提出用データの作成"
      ]
    },
    {
      "cell_type": "code",
      "metadata": {
        "id": "Mdqy_ZJlc_HB",
        "colab_type": "code",
        "colab": {}
      },
      "source": [
        "y_pred = model.predict(x, prediction_type='Probability')[:, 1]\n",
        "raw_purchase_record_test_df[\"y\"] = y_pred"
      ],
      "execution_count": 0,
      "outputs": []
    },
    {
      "cell_type": "code",
      "metadata": {
        "id": "tEnjzBKlf8Cm",
        "colab_type": "code",
        "colab": {}
      },
      "source": [
        "from pydrive.auth import GoogleAuth\n",
        "from pydrive.drive import GoogleDrive\n",
        "from google.colab import auth\n",
        "from oauth2client.client import GoogleCredentials\n",
        "\n",
        "# 提出用ファイルの作成\n",
        "submittion_file = raw_purchase_record_test_df[['purchase_id', 'y']]\n",
        "submittion_file.to_csv('submittion9.csv', index=False, header=False)"
      ],
      "execution_count": 0,
      "outputs": []
    },
    {
      "cell_type": "code",
      "metadata": {
        "id": "2aG3DEUPjYSi",
        "colab_type": "code",
        "colab": {}
      },
      "source": [
        ""
      ],
      "execution_count": 0,
      "outputs": []
    }
  ]
}